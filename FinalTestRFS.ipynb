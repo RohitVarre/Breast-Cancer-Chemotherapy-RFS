{
 "cells": [
  {
   "cell_type": "code",
   "execution_count": 8,
   "id": "549c6f8f",
   "metadata": {},
   "outputs": [],
   "source": [
    "#################################\n",
    "#**  Change file name below  **\n",
    "\n",
    "testfile_name = r\"C:\\Users\\Rohit Varre\\Desktop\\MliS\\ML lab\\Assignment 2\\testDatasetExample.xls\"\n",
    "\n",
    "#*********************************"
   ]
  },
  {
   "cell_type": "markdown",
   "id": "76964b81",
   "metadata": {},
   "source": [
    "<h2> Import all necessary packages <h2\\>"
   ]
  },
  {
   "cell_type": "code",
   "execution_count": 9,
   "id": "9d21ed42",
   "metadata": {},
   "outputs": [],
   "source": [
    "\n",
    "import tensorflow as tf\n",
    "from tensorflow import keras\n",
    "\n",
    "import os\n",
    "import tempfile\n",
    "\n",
    "import matplotlib as mpl\n",
    "import matplotlib.pyplot as plt\n",
    "import numpy as np\n",
    "import pandas as pd\n",
    "import seaborn as sns\n",
    "import sklearn\n",
    "\n",
    "\n",
    "from sklearn.model_selection import train_test_split, cross_val_score, GridSearchCV, RandomizedSearchCV\n",
    "from sklearn.linear_model import LogisticRegression, LinearRegression\n",
    "from sklearn.svm import SVC, SVR\n",
    "from sklearn.ensemble import RandomForestRegressor, RandomForestClassifier\n",
    "from sklearn.metrics import f1_score, precision_score, recall_score, confusion_matrix, accuracy_score, mean_absolute_error\n",
    "from sklearn.preprocessing import StandardScaler, MinMaxScaler\n",
    "from imblearn.over_sampling import SMOTE\n",
    "from sklearn.model_selection import GridSearchCV\n",
    "from sklearn.feature_selection import f_classif\n",
    "\n",
    "from scipy import stats as st\n",
    "from sklearn.preprocessing import PowerTransformer\n",
    "\n",
    "import pickle"
   ]
  },
  {
   "cell_type": "markdown",
   "id": "b3eb0d26",
   "metadata": {},
   "source": [
    "<h2> Reading the data <h2\\>"
   ]
  },
  {
   "cell_type": "code",
   "execution_count": 10,
   "id": "fbee2b9d",
   "metadata": {},
   "outputs": [],
   "source": [
    "test_df = pd.read_excel(testfile_name)"
   ]
  },
  {
   "cell_type": "code",
   "execution_count": 15,
   "id": "3c7f886f",
   "metadata": {},
   "outputs": [],
   "source": [
    "# load the imputer from disk\n",
    "filename = 'saved_model/int_cols_imputer.sav'\n",
    "sic = pickle.load(open(filename, 'rb'))\n",
    "\n",
    "filename = 'saved_model/float_cols_imputer.sav'\n",
    "sif = pickle.load(open(filename, 'rb'))\n",
    "\n",
    "# load the transformer from disk\n",
    "filename = 'saved_model/robust_scaler.sav'\n",
    "robust_scaler = pickle.load(open(filename, 'rb'))\n",
    "\n",
    "# load the scaler from disk\n",
    "filename = 'saved_model/min_max_scaler.sav'\n",
    "min_max_scaler = pickle.load(open(filename, 'rb'))\n",
    "\n",
    "# Continuous columns list\n",
    "float_cols = pickle.load(open('saved_model/continuous_features.pkl', 'rb'))['continuous_features']\n",
    "\n",
    "# Categorical columns\n",
    "cat_cols = pickle.load(open('saved_model/categorical_features.pkl', 'rb'))['categorical_features']\n",
    "\n",
    "## Loadin the model\n",
    "model = tf.keras.models.load_model('saved_model/best_model_aucc82')\n"
   ]
  },
  {
   "cell_type": "markdown",
   "id": "79e291f8",
   "metadata": {},
   "source": [
    "<h2> Data Preprocessing <h2/>"
   ]
  },
  {
   "cell_type": "markdown",
   "id": "de55b766",
   "metadata": {},
   "source": [
    "<h3> Filling missing values <h3/>"
   ]
  },
  {
   "cell_type": "code",
   "execution_count": 16,
   "id": "ebc88d65",
   "metadata": {},
   "outputs": [],
   "source": [
    "df_cats = test_df[cat_cols]\n",
    "df_floats = test_df[float_cols]"
   ]
  },
  {
   "cell_type": "markdown",
   "id": "a7c3b774",
   "metadata": {},
   "source": [
    "<h3> Merging features <h3/>"
   ]
  },
  {
   "cell_type": "code",
   "execution_count": 25,
   "id": "13d1d1ed",
   "metadata": {},
   "outputs": [],
   "source": [
    "df_cats = pd.DataFrame(sic.transform(df_cats),columns=df_cats.columns)\n",
    "df_floats = pd.DataFrame(sif.transform(df_floats),columns=df_floats.columns)\n",
    "X = pd.concat([df_cats.reset_index(drop=True),df_floats.reset_index(drop=True)],axis=1)"
   ]
  },
  {
   "cell_type": "markdown",
   "id": "578af4e2",
   "metadata": {},
   "source": [
    "<h3> Scaling the features <h3/>"
   ]
  },
  {
   "cell_type": "code",
   "execution_count": 26,
   "id": "457c601b",
   "metadata": {},
   "outputs": [
    {
     "name": "stderr",
     "output_type": "stream",
     "text": [
      "C:\\Users\\Rohit Varre\\miniconda3\\lib\\site-packages\\sklearn\\base.py:443: UserWarning: X has feature names, but MinMaxScaler was fitted without feature names\n",
      "  warnings.warn(\n"
     ]
    }
   ],
   "source": [
    "X = pd.DataFrame(robust_scaler.transform(X),columns=X.columns)\n",
    "X = pd.DataFrame(min_max_scaler.transform(X),columns=X.columns)"
   ]
  },
  {
   "cell_type": "markdown",
   "id": "bdc645bd",
   "metadata": {},
   "source": [
    "<h2> Model prediction <h2/>"
   ]
  },
  {
   "cell_type": "code",
   "execution_count": 19,
   "id": "28b0f2fb",
   "metadata": {},
   "outputs": [],
   "source": [
    "predictions = model.predict(X)"
   ]
  },
  {
   "cell_type": "code",
   "execution_count": 21,
   "id": "c76dc50b",
   "metadata": {},
   "outputs": [],
   "source": [
    "preds_df = pd.DataFrame(zip(test_df[\"ID\"].to_list(),\n",
    "                            list(np.squeeze(predictions))),\n",
    "                            columns=([\"ID\",\"RFS\"]))"
   ]
  },
  {
   "cell_type": "code",
   "execution_count": 23,
   "id": "9653168f",
   "metadata": {},
   "outputs": [
    {
     "data": {
      "text/html": [
       "<div>\n",
       "<style scoped>\n",
       "    .dataframe tbody tr th:only-of-type {\n",
       "        vertical-align: middle;\n",
       "    }\n",
       "\n",
       "    .dataframe tbody tr th {\n",
       "        vertical-align: top;\n",
       "    }\n",
       "\n",
       "    .dataframe thead th {\n",
       "        text-align: right;\n",
       "    }\n",
       "</style>\n",
       "<table border=\"1\" class=\"dataframe\">\n",
       "  <thead>\n",
       "    <tr style=\"text-align: right;\">\n",
       "      <th></th>\n",
       "      <th>ID</th>\n",
       "      <th>RFS</th>\n",
       "    </tr>\n",
       "  </thead>\n",
       "  <tbody>\n",
       "    <tr>\n",
       "      <th>0</th>\n",
       "      <td>TRG002728</td>\n",
       "      <td>58.606575</td>\n",
       "    </tr>\n",
       "    <tr>\n",
       "      <th>1</th>\n",
       "      <td>TRG002649</td>\n",
       "      <td>58.606575</td>\n",
       "    </tr>\n",
       "    <tr>\n",
       "      <th>2</th>\n",
       "      <td>TRG002628</td>\n",
       "      <td>58.606575</td>\n",
       "    </tr>\n",
       "  </tbody>\n",
       "</table>\n",
       "</div>"
      ],
      "text/plain": [
       "          ID        RFS\n",
       "0  TRG002728  58.606575\n",
       "1  TRG002649  58.606575\n",
       "2  TRG002628  58.606575"
      ]
     },
     "execution_count": 23,
     "metadata": {},
     "output_type": "execute_result"
    }
   ],
   "source": [
    "preds_df.head()"
   ]
  },
  {
   "cell_type": "code",
   "execution_count": 24,
   "id": "2a88fc72",
   "metadata": {},
   "outputs": [],
   "source": [
    "preds_df.to_csv('pcr_predictions.csv',index=False)"
   ]
  }
 ],
 "metadata": {
  "kernelspec": {
   "display_name": "Python 3",
   "language": "python",
   "name": "python3"
  },
  "language_info": {
   "codemirror_mode": {
    "name": "ipython",
    "version": 3
   },
   "file_extension": ".py",
   "mimetype": "text/x-python",
   "name": "python",
   "nbconvert_exporter": "python",
   "pygments_lexer": "ipython3",
   "version": "3.9.1"
  }
 },
 "nbformat": 4,
 "nbformat_minor": 5
}
